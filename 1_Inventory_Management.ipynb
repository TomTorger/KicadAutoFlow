{
 "cells": [
  {
   "cell_type": "markdown",
   "id": "71828c72",
   "metadata": {},
   "source": [
    "# Inventory Management Workflow\n",
    "This notebook helps you manage your physical component inventory for KiCad projects, including manual entry, image-assisted ingestion, and LLM/LMM-powered suggestions and checks."
   ]
  },
  {
   "cell_type": "markdown",
   "id": "1432778d",
   "metadata": {},
   "source": [
    "## 1. Load and Display Inventory\n",
    "Load your inventory from `inventory.yaml` and display it as a table."
   ]
  },
  {
   "cell_type": "code",
   "execution_count": 10,
   "id": "0320269d",
   "metadata": {},
   "outputs": [
    {
     "name": "stdout",
     "output_type": "stream",
     "text": [
      "Loaded 0 items from 'C:\\Temp\\KicadAutoFlow\\inventory.yaml'.\n"
     ]
    },
    {
     "data": {
      "text/html": [
       "<div>\n",
       "<style scoped>\n",
       "    .dataframe tbody tr th:only-of-type {\n",
       "        vertical-align: middle;\n",
       "    }\n",
       "\n",
       "    .dataframe tbody tr th {\n",
       "        vertical-align: top;\n",
       "    }\n",
       "\n",
       "    .dataframe thead th {\n",
       "        text-align: right;\n",
       "    }\n",
       "</style>\n",
       "<table border=\"1\" class=\"dataframe\">\n",
       "  <thead>\n",
       "    <tr style=\"text-align: right;\">\n",
       "      <th></th>\n",
       "      <th>part_id</th>\n",
       "      <th>description</th>\n",
       "      <th>value</th>\n",
       "      <th>package</th>\n",
       "      <th>footprint</th>\n",
       "      <th>footprint_source</th>\n",
       "      <th>mpn</th>\n",
       "      <th>quantity</th>\n",
       "      <th>storage_location</th>\n",
       "      <th>datasheet_local</th>\n",
       "      <th>image_path</th>\n",
       "    </tr>\n",
       "  </thead>\n",
       "  <tbody>\n",
       "  </tbody>\n",
       "</table>\n",
       "</div>"
      ],
      "text/plain": [
       "Empty DataFrame\n",
       "Columns: [part_id, description, value, package, footprint, footprint_source, mpn, quantity, storage_location, datasheet_local, image_path]\n",
       "Index: []"
      ]
     },
     "execution_count": 10,
     "metadata": {},
     "output_type": "execute_result"
    }
   ],
   "source": [
    "from inventory_manager import Inventory\n",
    "from data_models.inventory_item import InventoryItem\n",
    "import pandas as pd\n",
    "from pathlib import Path\n",
    "inv_path = Path('inventory.yaml')\n",
    "inventory = Inventory(inv_path)\n",
    "inventory.load()\n",
    "df = inventory.to_dataframe()\n",
    "df"
   ]
  },
  {
   "cell_type": "markdown",
   "id": "35b567eb",
   "metadata": {},
   "source": [
    "## 2. Manually Add a New Inventory Item\n",
    "Fill in the fields below to add a new part to your inventory."
   ]
  },
  {
   "cell_type": "code",
   "execution_count": null,
   "id": "855ae43f",
   "metadata": {},
   "outputs": [],
   "source": [
    "from ipywidgets import Text, IntText, Dropdown, Button, VBox\n",
    "desc = Text(description='Description')\n",
    "value = Text(description='Value')\n",
    "package = Text(description='Package')\n",
    "footprint = Text(description='Footprint')\n",
    "mounting_type = Dropdown(description='Mounting', options=['Surface Mount', 'Through-Hole', 'Unknown'], value='Unknown')\n",
    "quantity = IntText(description='Quantity', value=1)\n",
    "add_btn = Button(description='Add to Inventory', button_style='success')\n",
    "form = VBox([desc, value, package, footprint, mounting_type, quantity, add_btn])\n",
    "display(form)\n",
    "def on_add_clicked(b):\n",
    "    new_item = InventoryItem(\n",
    "        part_id=inventory.get_next_part_id(),\n",
    "        description=desc.value,\n",
    "        value=value.value,\n",
    "        package=package.value,\n",
    "        footprint=footprint.value,\n",
    "        mounting_type=mounting_type.value,\n",
    "        footprint_source='manual',\n",
    "        mpn=None,\n",
    "        quantity=quantity.value\n",
    "    )\n",
    "    inventory.add_part(new_item)\n",
    "    inventory.save()\n",
    "    print(f'Added {new_item.part_id} to inventory.')\n",
    "add_btn.on_click(on_add_clicked)"
   ]
  },
  {
   "cell_type": "markdown",
   "id": "921fff98",
   "metadata": {},
   "source": [
    "## 3. Add Inventory Item from a Picture (LMM Assisted)\n",
    "Upload a photo of your part, let the LMM suggest details, review, and add it to your inventory."
   ]
  },
  {
   "cell_type": "code",
   "execution_count": 11,
   "id": "c88f368f",
   "metadata": {},
   "outputs": [
    {
     "data": {
      "application/vnd.jupyter.widget-view+json": {
       "model_id": "f9aed2b546dd4d788bc107d9000a576c",
       "version_major": 2,
       "version_minor": 0
      },
      "text/plain": [
       "FileUpload(value=(), accept='image/*', description='Upload')"
      ]
     },
     "metadata": {},
     "output_type": "display_data"
    }
   ],
   "source": [
    "import ipywidgets as widgets\n",
    "from IPython.display import display, Image\n",
    "from pathlib import Path\n",
    "img_upload = widgets.FileUpload(accept='image/*', multiple=False)\n",
    "display(img_upload)"
   ]
  },
  {
   "cell_type": "code",
   "execution_count": 18,
   "id": "d4be32f9",
   "metadata": {},
   "outputs": [
    {
     "data": {
      "image/jpeg": "[encoded data removed]",
      "text/plain": [
       "<IPython.core.display.Image object>"
      ]
     },
     "metadata": {},
     "output_type": "display_data"
    },
    {
     "name": "stdout",
     "output_type": "stream",
     "text": [
      "Image saved to docs\\inventory_images\\part.jpg\n"
     ]
    }
   ],
   "source": [
    "# Save uploaded image and display it\n",
    "img_path = None\n",
    "if img_upload.value:\n",
    "    img_info = img_upload.value[0]\n",
    "    img_bytes = img_info['content']\n",
    "    img_name = img_info['name']\n",
    "    img_dir = Path('docs/inventory_images')\n",
    "    img_dir.mkdir(parents=True, exist_ok=True)\n",
    "    img_path = img_dir / img_name\n",
    "    with open(img_path, 'wb') as f:\n",
    "        f.write(img_bytes)\n",
    "    display(Image(filename=str(img_path)))\n",
    "    print(f'Image saved to {img_path}')\n",
    "else:\n",
    "    print('Upload an image to continue.')"
   ]
  },
  {
   "cell_type": "code",
   "execution_count": null,
   "id": "535970f1",
   "metadata": {},
   "outputs": [
    {
     "name": "stdout",
     "output_type": "stream",
     "text": [
      "LMM suggestion: {'detected_text': 'HYSD Store, 50pcs RJ11 Telephone Jack 95001, 95001-4P4C, 95001-4p4c, 95001-6p4c, 95001-6p4c, 95001-6p4c', 'component_type_guess': 'Connector', 'package_guess': None, 'value_guess': '95001-4P4C', 'mounting_type': 'Through-Hole', 'footprint_suggestion': None, 'confidence': 'Medium'}\n"
     ]
    }
   ],
   "source": [
    "# Use Gemini LMM to analyze the image, suggest part details, and find a footprint\n",
    "from adk_capabilities.llm_capability import GeminiCapability\n",
    "from utils.config_loader import load_config\n",
    "lmm_result = {}\n",
    "footprint_suggestion = None\n",
    "if img_path and img_path.exists():\n",
    "    config = load_config('config.yaml')\n",
    "    llm = GeminiCapability(config=config)\n",
    "    with open(img_path, 'rb') as f:\n",
    "        img_bytes = f.read()\n",
    "    # Use the built-in prompt from prompts.yaml\n",
    "    lmm_result = llm.analyze_image_for_component(img_bytes) or {}\n",
    "    print('LMM suggestion:', lmm_result)\n",
    "    footprint_suggestion = lmm_result.get('footprint_suggestion')\n",
    "else:\n",
    "    print('Upload an image and rerun this cell.')"
   ]
  },
  {
   "cell_type": "code",
   "execution_count": null,
   "id": "266a7c5f",
   "metadata": {},
   "outputs": [
    {
     "data": {
      "application/vnd.jupyter.widget-view+json": {
       "model_id": "ff74471bf87144b699075a11d3c215ca",
       "version_major": 2,
       "version_minor": 0
      },
      "text/plain": [
       "VBox(children=(Text(value='Connector', description='Description'), Text(value='95001-4P4C', description='Value…"
      ]
     },
     "metadata": {},
     "output_type": "display_data"
    }
   ],
   "source": [
    "# Pre-fill the form with LMM suggestions (user can edit)\n",
    "from ipywidgets import Text, IntText, Dropdown, Button, VBox\n",
    "desc = Text(description='Description', value=lmm_result.get('component_type_guess', '') or lmm_result.get('description', ''))\n",
    "value = Text(description='Value', value=lmm_result.get('value_guess', '') or lmm_result.get('value', ''))\n",
    "package = Text(description='Package', value=lmm_result.get('package_guess', '') or lmm_result.get('package', ''))\n",
    "footprint = Text(description='Footprint', value=lmm_result.get('footprint', ''))\n",
    "mounting_type = Dropdown(description='Mounting', options=['Surface Mount', 'Through-Hole', 'Unknown'], value=lmm_result.get('mounting_type', 'Unknown') or 'Unknown')\n",
    "quantity = IntText(description='Quantity', value=1)\n",
    "add_btn = Button(description='Add to Inventory', button_style='success')\n",
    "form = VBox([desc, value, package, footprint, mounting_type, quantity, add_btn])\n",
    "display(form)\n",
    "def on_add_clicked(b):\n",
    "    if not img_path or not img_path.exists():\n",
    "        print('Please upload an image first.')\n",
    "        return\n",
    "    img_rel_path = str(img_path).replace('\\\\', '/').replace('\\\\', '/')\n",
    "    new_item = InventoryItem(\n",
    "        part_id=inventory.get_next_part_id(),\n",
    "        description=desc.value,\n",
    "        value=value.value,\n",
    "        package=package.value,\n",
    "        footprint=footprint.value,\n",
    "        mounting_type=mounting_type.value,\n",
    "        footprint_source='lmm' if lmm_result else 'manual',\n",
    "        mpn=None,\n",
    "        quantity=quantity.value,\n",
    "        image_path=img_rel_path\n",
    "    )\n",
    "    inventory.add_part(new_item)\n",
    "    inventory.save()\n",
    "    print(f'Added {new_item.part_id} to inventory.')\n",
    "add_btn.on_click(on_add_clicked)"
   ]
  },
  {
   "cell_type": "markdown",
   "id": "0d3f57dc",
   "metadata": {},
   "source": [
    "## 4. Suggest a Footprint for a Component (LLM)\n",
    "Use the LLM to suggest a KiCad footprint for a given component description and package."
   ]
  },
  {
   "cell_type": "code",
   "execution_count": null,
   "id": "bb7f9b3e",
   "metadata": {},
   "outputs": [],
   "source": [
    "# Suggest a footprint using the LLM\n",
    "from adk_capabilities.llm_capability import GeminiCapability\n",
    "from utils.config_loader import load_config\n",
    "config = load_config('config.yaml')\n",
    "llm = GeminiCapability(config=config)\n",
    "component_desc = input('Component description: ')\n",
    "package_desc = input('Package description: ')\n",
    "footprint_suggestion = llm.suggest_footprint(package_desc, component_desc)\n",
    "print('Suggested KiCad Footprint:', footprint_suggestion)"
   ]
  },
  {
   "cell_type": "markdown",
   "id": "e0c81796",
   "metadata": {},
   "source": [
    "## 5. Check Datasheet Pin Count and Package Consistency (LLM)\n",
    "Use the LLM to check if a datasheet snippet matches the expected pin count and package."
   ]
  },
  {
   "cell_type": "code",
   "execution_count": null,
   "id": "7cd7a6ca",
   "metadata": {},
   "outputs": [],
   "source": [
    "# Add the new item to inventory when button is clicked\n",
    "def on_add_clicked(b):\n",
    "    if not img_path or not img_path.exists():\n",
    "        print('Please upload an image first.')\n",
    "        return\n",
    "    img_rel_path = str(img_path).replace('\\\\', '/').replace('\\\\', '/')\n",
    "    new_item = InventoryItem(\n",
    "        part_id=inventory.get_next_part_id(),\n",
    "        description=desc.value,\n",
    "        value=value.value,\n",
    "        package=package.value,\n",
    "        footprint=footprint.value,\n",
    "        mounting_type=mounting_type.value,\n",
    "        footprint_source='lmm' if lmm_result else 'manual',\n",
    "        mpn=lmm_result.get('mpn', None),\n",
    "        quantity=quantity.value,\n",
    "        image_path=img_rel_path\n",
    "    )\n",
    "    inventory.add_part(new_item)\n",
    "    inventory.save()\n",
    "    print(f'Added {new_item.part_id} to inventory.')\n",
    "add_btn.on_click(on_add_clicked)"
   ]
  }
 ],
 "metadata": {
  "kernelspec": {
   "display_name": "Python 3",
   "language": "python",
   "name": "python3"
  },
  "language_info": {
   "codemirror_mode": {
    "name": "ipython",
    "version": 3
   },
   "file_extension": ".py",
   "mimetype": "text/x-python",
   "name": "python",
   "nbconvert_exporter": "python",
   "pygments_lexer": "ipython3",
   "version": "3.13.1"
  }
 },
 "nbformat": 4,
 "nbformat_minor": 5
}
