{
 "cells": [
  {
   "cell_type": "markdown",
   "id": "bbd078d6",
   "metadata": {},
   "source": [
    "# Inventory Management\n",
    "This notebook helps you manage your physical component inventory for KiCad projects."
   ]
  },
  {
   "cell_type": "code",
   "execution_count": 1,
   "id": "40549141",
   "metadata": {},
   "outputs": [],
   "source": [
    "# Load inventory management utilities\n",
    "from inventory_manager import Inventory\n",
    "from data_models.inventory_item import InventoryItem\n",
    "import yaml\n",
    "from pathlib import Path"
   ]
  },
  {
   "cell_type": "code",
   "execution_count": 2,
   "id": "41cf17d2",
   "metadata": {},
   "outputs": [
    {
     "name": "stdout",
     "output_type": "stream",
     "text": [
      "Loaded 0 items from 'C:\\Temp\\KicadAutoFlow\\inventory.yaml'.\n",
      "Loaded 0 inventory items.\n"
     ]
    }
   ],
   "source": [
    "# Load the inventory file\n",
    "inv_path = Path('inventory.yaml')\n",
    "inventory = Inventory(inv_path)\n",
    "inventory.load()\n",
    "print(f'Loaded {len(inventory.data.inventory_parts)} inventory items.')"
   ]
  },
  {
   "cell_type": "code",
   "execution_count": 3,
   "id": "14a1aee1",
   "metadata": {},
   "outputs": [
    {
     "data": {
      "text/html": [
       "<div>\n",
       "<style scoped>\n",
       "    .dataframe tbody tr th:only-of-type {\n",
       "        vertical-align: middle;\n",
       "    }\n",
       "\n",
       "    .dataframe tbody tr th {\n",
       "        vertical-align: top;\n",
       "    }\n",
       "\n",
       "    .dataframe thead th {\n",
       "        text-align: right;\n",
       "    }\n",
       "</style>\n",
       "<table border=\"1\" class=\"dataframe\">\n",
       "  <thead>\n",
       "    <tr style=\"text-align: right;\">\n",
       "      <th></th>\n",
       "      <th>part_id</th>\n",
       "      <th>description</th>\n",
       "      <th>value</th>\n",
       "      <th>package</th>\n",
       "      <th>footprint</th>\n",
       "      <th>footprint_source</th>\n",
       "      <th>mpn</th>\n",
       "      <th>quantity</th>\n",
       "      <th>storage_location</th>\n",
       "      <th>datasheet_local</th>\n",
       "      <th>image_path</th>\n",
       "    </tr>\n",
       "  </thead>\n",
       "  <tbody>\n",
       "  </tbody>\n",
       "</table>\n",
       "</div>"
      ],
      "text/plain": [
       "Empty DataFrame\n",
       "Columns: [part_id, description, value, package, footprint, footprint_source, mpn, quantity, storage_location, datasheet_local, image_path]\n",
       "Index: []"
      ]
     },
     "execution_count": 3,
     "metadata": {},
     "output_type": "execute_result"
    }
   ],
   "source": [
    "# Display all inventory items\n",
    "import pandas as pd\n",
    "df = inventory.to_dataframe()\n",
    "df"
   ]
  },
  {
   "cell_type": "markdown",
   "id": "a0386d84",
   "metadata": {},
   "source": [
    "## Add a New Inventory Item\n",
    "Edit and run the cell below to add a new part."
   ]
  },
  {
   "cell_type": "code",
   "execution_count": null,
   "id": "793d96a8",
   "metadata": {},
   "outputs": [],
   "source": [
    "# Example: Add a new inventory item\n",
    "new_item = InventoryItem(\n",
    "    part_id=inventory.get_next_part_id(),\n",
    "    description='10k 0603 Resistor',\n",
    "    value='10k',\n",
    "    package='0603',\n",
    "    footprint='Resistor_SMD:R_0603_1608Metric',\n",
    "    footprint_source='manual',\n",
    "    mpn=None,\n",
    "    quantity=100\n",
    ")\n",
    "inventory.add_part(new_item)\n",
    "inventory.save()\n",
    "print('Added new item and saved inventory.')"
   ]
  },
  {
   "cell_type": "markdown",
   "id": "1b38542e",
   "metadata": {},
   "source": [
    "## Add Inventory Item from a Picture\n",
    "Upload a photo of your part, fill in the details, and add it to your inventory."
   ]
  },
  {
   "cell_type": "code",
   "execution_count": null,
   "id": "2dc4dce7",
   "metadata": {},
   "outputs": [],
   "source": [
    "import ipywidgets as widgets\n",
    "from IPython.display import display, Image\n",
    "import os\n",
    "img_upload = widgets.FileUpload(accept='image/*', multiple=False)\n",
    "display(img_upload)"
   ]
  },
  {
   "cell_type": "code",
   "execution_count": null,
   "id": "87741253",
   "metadata": {},
   "outputs": [],
   "source": [
    "# Save uploaded image and display it\n",
    "if img_upload.value:\n",
    "    img_info = next(iter(img_upload.value.values()))\n",
    "    img_bytes = img_info['content']\n",
    "    img_name = img_info['metadata']['name']\n",
    "    img_dir = Path('docs/inventory_images')\n",
    "    img_dir.mkdir(parents=True, exist_ok=True)\n",
    "    img_path = img_dir / img_name\n",
    "    with open(img_path, 'wb') as f:\n",
    "        f.write(img_bytes)\n",
    "    display(Image(filename=str(img_path)))\n",
    "    print(f'Image saved to {img_path}')\n",
    "else:\n",
    "    print('Upload an image to continue.')"
   ]
  },
  {
   "cell_type": "code",
   "execution_count": null,
   "id": "1ed86996",
   "metadata": {},
   "outputs": [],
   "source": [
    "# Fill in the fields for the new item\n",
    "# (You can pre-fill these with AI/LLM suggestions if desired)\n",
    "from ipywidgets import Text, IntText, Dropdown, Button, VBox\n",
    "desc = Text(description='Description')\n",
    "value = Text(description='Value')\n",
    "package = Text(description='Package')\n",
    "footprint = Text(description='Footprint')\n",
    "quantity = IntText(description='Quantity', value=1)\n",
    "add_btn = Button(description='Add to Inventory', button_style='success')\n",
    "form = VBox([desc, value, package, footprint, quantity, add_btn])\n",
    "display(form)"
   ]
  },
  {
   "cell_type": "code",
   "execution_count": null,
   "id": "1fe2bff9",
   "metadata": {},
   "outputs": [],
   "source": [
    "# Add the new item to inventory when button is clicked\n",
    "def on_add_clicked(b):\n",
    "    if not img_upload.value:\n",
    "        print('Please upload an image first.')\n",
    "        return\n",
    "    img_info = next(iter(img_upload.value.values()))\n",
    "    img_name = img_info['metadata']['name']\n",
    "    img_rel_path = f'docs/inventory_images/{img_name}'\n",
    "    new_item = InventoryItem(\n",
    "        part_id=inventory.get_next_part_id(),\n",
    "        description=desc.value,\n",
    "        value=value.value,\n",
    "        package=package.value,\n",
    "        footprint=footprint.value,\n",
    "        footprint_source='manual',\n",
    "        mpn=None,\n",
    "        quantity=quantity.value,\n",
    "        image_path=img_rel_path\n",
    "    )\n",
    "    inventory.add_part(new_item)\n",
    "    inventory.save()\n",
    "    print(f'Added {new_item.part_id} to inventory.')\n",
    "add_btn.on_click(on_add_clicked)"
   ]
  },
  {
   "cell_type": "markdown",
   "id": "46341f0a",
   "metadata": {},
   "source": [
    "## Add Inventory Item from a Picture with LMM Assistance\n",
    "Upload a photo of your part, let the LMM suggest details, review, and add it to your inventory."
   ]
  },
  {
   "cell_type": "code",
   "execution_count": null,
   "id": "8d8d2aa3",
   "metadata": {},
   "outputs": [],
   "source": [
    "import ipywidgets as widgets\n",
    "from IPython.display import display, Image\n",
    "from pathlib import Path\n",
    "img_upload = widgets.FileUpload(accept='image/*', multiple=False)\n",
    "display(img_upload)"
   ]
  },
  {
   "cell_type": "code",
   "execution_count": null,
   "id": "d6fdedbd",
   "metadata": {},
   "outputs": [],
   "source": [
    "# Save uploaded image and display it\n",
    "img_path = None\n",
    "if img_upload.value:\n",
    "    img_info = next(iter(img_upload.value.values()))\n",
    "    img_bytes = img_info['content']\n",
    "    img_name = img_info['metadata']['name']\n",
    "    img_dir = Path('docs/inventory_images')\n",
    "    img_dir.mkdir(parents=True, exist_ok=True)\n",
    "    img_path = img_dir / img_name\n",
    "    with open(img_path, 'wb') as f:\n",
    "        f.write(img_bytes)\n",
    "    display(Image(filename=str(img_path)))\n",
    "    print(f'Image saved to {img_path}')\n",
    "else:\n",
    "    print('Upload an image to continue.')"
   ]
  },
  {
   "cell_type": "code",
   "execution_count": null,
   "id": "c6f3198a",
   "metadata": {},
   "outputs": [],
   "source": [
    "# Use LMM/LLM to analyze the image and suggest part details\n",
    "from adk_capabilities.llm_capability import LLMCapability\n",
    "lmm_result = {}\n",
    "if img_path and img_path.exists():\n",
    "    llm = LLMCapability()  # Adjust if config/API key needed\n",
    "    lmm_result = llm.analyze_image_for_component(str(img_path))\n",
    "    print('LMM suggestion:', lmm_result)\n",
    "else:\n",
    "    print('Upload an image and rerun this cell.')"
   ]
  },
  {
   "cell_type": "code",
   "execution_count": null,
   "id": "7f21df08",
   "metadata": {},
   "outputs": [],
   "source": [
    "# Pre-fill the form with LMM suggestions (user can edit)\n",
    "from ipywidgets import Text, IntText, Button, VBox\n",
    "desc = Text(description='Description', value=lmm_result.get('description', ''))\n",
    "value = Text(description='Value', value=lmm_result.get('value', ''))\n",
    "package = Text(description='Package', value=lmm_result.get('package', ''))\n",
    "footprint = Text(description='Footprint', value=lmm_result.get('footprint', ''))\n",
    "quantity = IntText(description='Quantity', value=1)\n",
    "add_btn = Button(description='Add to Inventory', button_style='success')\n",
    "form = VBox([desc, value, package, footprint, quantity, add_btn])\n",
    "display(form)"
   ]
  },
  {
   "cell_type": "code",
   "execution_count": null,
   "id": "7cd7a6ca",
   "metadata": {},
   "outputs": [],
   "source": [
    "# Add the new item to inventory when button is clicked\n",
    "def on_add_clicked(b):\n",
    "    if not img_path or not img_path.exists():\n",
    "        print('Please upload an image first.')\n",
    "        return\n",
    "    img_rel_path = str(img_path).replace('\\\\', '/').replace('\\\\', '/')\n",
    "    new_item = InventoryItem(\n",
    "        part_id=inventory.get_next_part_id(),\n",
    "        description=desc.value,\n",
    "        value=value.value,\n",
    "        package=package.value,\n",
    "        footprint=footprint.value,\n",
    "        footprint_source='lmm' if lmm_result else 'manual',\n",
    "        mpn=lmm_result.get('mpn', None),\n",
    "        quantity=quantity.value,\n",
    "        image_path=img_rel_path\n",
    "    )\n",
    "    inventory.add_part(new_item)\n",
    "    inventory.save()\n",
    "    print(f'Added {new_item.part_id} to inventory.')\n",
    "add_btn.on_click(on_add_clicked)"
   ]
  }
 ],
 "metadata": {
  "kernelspec": {
   "display_name": "Python 3",
   "language": "python",
   "name": "python3"
  },
  "language_info": {
   "codemirror_mode": {
    "name": "ipython",
    "version": 3
   },
   "file_extension": ".py",
   "mimetype": "text/x-python",
   "name": "python",
   "nbconvert_exporter": "python",
   "pygments_lexer": "ipython3",
   "version": "3.13.1"
  }
 },
 "nbformat": 4,
 "nbformat_minor": 5
}
